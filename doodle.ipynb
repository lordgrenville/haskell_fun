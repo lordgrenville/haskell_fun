{
 "cells": [
  {
   "cell_type": "markdown",
   "metadata": {},
   "source": [
    "## CIS 194 "
   ]
  },
  {
   "cell_type": "markdown",
   "metadata": {},
   "source": [
    "Source: https://www.seas.upenn.edu/~cis194/fall14/spring13/hw/01-intro.pdf"
   ]
  },
  {
   "cell_type": "markdown",
   "metadata": {},
   "source": [
    "## Exercise 1"
   ]
  },
  {
   "cell_type": "code",
   "execution_count": 1,
   "metadata": {},
   "outputs": [],
   "source": [
    "toDigits    :: Integer -> [Integer]\n",
    "toDigits 0 = []\n",
    "toDigits x = toDigits (x `div` 10) ++ [x `mod` 10]"
   ]
  },
  {
   "cell_type": "code",
   "execution_count": 2,
   "metadata": {},
   "outputs": [],
   "source": [
    "toDigitsRev    :: Integer -> [Integer]\n",
    "toDigitsRev 0 = []\n",
    "toDigitsRev x = x `mod` 10 : toDigitsRev (x `div` 10)"
   ]
  },
  {
   "cell_type": "code",
   "execution_count": 41,
   "metadata": {},
   "outputs": [],
   "source": [
    "doubler :: [Integer] -> [Integer]\n",
    "doubler []         = []\n",
    "doubler (x:[])     = [x]\n",
    "doubler (x:(y:zs)) = x : 2 * y : doubler zs"
   ]
  },
  {
   "cell_type": "code",
   "execution_count": 43,
   "metadata": {},
   "outputs": [],
   "source": [
    "doubleEveryOther = reverse . doubler . reverse"
   ]
  },
  {
   "cell_type": "code",
   "execution_count": 6,
   "metadata": {},
   "outputs": [],
   "source": [
    "sumNumber :: Integer -> Integer\n",
    "sumNumber 0 = 0\n",
    "sumNumber x = (x `mod` 10) + sumNumber (x `div` 10)"
   ]
  },
  {
   "cell_type": "code",
   "execution_count": 45,
   "metadata": {},
   "outputs": [],
   "source": [
    "sumDigits :: [Integer] -> Integer\n",
    "sumDigits [] = 0\n",
    "sumDigits [x] = sumNumber x\n",
    "sumDigits (x:zs) = sumNumber x + sumDigits zs"
   ]
  },
  {
   "cell_type": "code",
   "execution_count": 51,
   "metadata": {},
   "outputs": [],
   "source": [
    "validate :: Integer -> Bool\n",
    "validate x = sumDigits (doubleEveryOther (toDigits x)) `mod` 10 == 0"
   ]
  },
  {
   "cell_type": "code",
   "execution_count": 55,
   "metadata": {},
   "outputs": [
    {
     "data": {
      "text/plain": [
       "True"
      ]
     },
     "metadata": {},
     "output_type": "display_data"
    }
   ],
   "source": [
    "validate 4012888888881881"
   ]
  },
  {
   "cell_type": "code",
   "execution_count": 54,
   "metadata": {},
   "outputs": [
    {
     "data": {
      "text/plain": [
       "False"
      ]
     },
     "metadata": {},
     "output_type": "display_data"
    }
   ],
   "source": [
    "validate 4012888888881882"
   ]
  },
  {
   "cell_type": "markdown",
   "metadata": {},
   "source": [
    "## Exercise 2"
   ]
  },
  {
   "cell_type": "code",
   "execution_count": 64,
   "metadata": {},
   "outputs": [],
   "source": [
    "type Peg = String\n",
    "type Move = (Peg, Peg)\n",
    "\n",
    "hanoi :: Integer -> Peg -> Peg -> Peg -> [Move]\n",
    "hanoi 0 _ _ _ = []\n",
    "hanoi 1 a b _ = [(a, b)]\n",
    "hanoi n a b c = (hanoi (n-1) a c b) ++ (hanoi 1 a b c) ++ (hanoi (n-1) c b a)"
   ]
  },
  {
   "cell_type": "code",
   "execution_count": 66,
   "metadata": {},
   "outputs": [
    {
     "data": {
      "text/html": [
       "<style>/* Styles used for the Hoogle display in the pager */\n",
       ".hoogle-doc {\n",
       "display: block;\n",
       "padding-bottom: 1.3em;\n",
       "padding-left: 0.4em;\n",
       "}\n",
       ".hoogle-code {\n",
       "display: block;\n",
       "font-family: monospace;\n",
       "white-space: pre;\n",
       "}\n",
       ".hoogle-text {\n",
       "display: block;\n",
       "}\n",
       ".hoogle-name {\n",
       "color: green;\n",
       "font-weight: bold;\n",
       "}\n",
       ".hoogle-head {\n",
       "font-weight: bold;\n",
       "}\n",
       ".hoogle-sub {\n",
       "display: block;\n",
       "margin-left: 0.4em;\n",
       "}\n",
       ".hoogle-package {\n",
       "font-weight: bold;\n",
       "font-style: italic;\n",
       "}\n",
       ".hoogle-module {\n",
       "font-weight: bold;\n",
       "}\n",
       ".hoogle-class {\n",
       "font-weight: bold;\n",
       "}\n",
       ".get-type {\n",
       "color: green;\n",
       "font-weight: bold;\n",
       "font-family: monospace;\n",
       "display: block;\n",
       "white-space: pre-wrap;\n",
       "}\n",
       ".show-type {\n",
       "color: green;\n",
       "font-weight: bold;\n",
       "font-family: monospace;\n",
       "margin-left: 1em;\n",
       "}\n",
       ".mono {\n",
       "font-family: monospace;\n",
       "display: block;\n",
       "}\n",
       ".err-msg {\n",
       "color: red;\n",
       "font-style: italic;\n",
       "font-family: monospace;\n",
       "white-space: pre;\n",
       "display: block;\n",
       "}\n",
       "#unshowable {\n",
       "color: red;\n",
       "font-weight: bold;\n",
       "}\n",
       ".err-msg.in.collapse {\n",
       "padding-top: 0.7em;\n",
       "}\n",
       ".highlight-code {\n",
       "white-space: pre;\n",
       "font-family: monospace;\n",
       "}\n",
       ".suggestion-warning { \n",
       "font-weight: bold;\n",
       "color: rgb(200, 130, 0);\n",
       "}\n",
       ".suggestion-error { \n",
       "font-weight: bold;\n",
       "color: red;\n",
       "}\n",
       ".suggestion-name {\n",
       "font-weight: bold;\n",
       "}\n",
       "</style><span class='err-msg'>&lt;interactive&gt;:1:1: error:<br/>    • Couldn't match expected type ‘Integer -&gt; t’ with actual type ‘IO ()’<br/>    • The function ‘print’ is applied to two arguments,<br/>      but its type ‘(Integer -&gt; Peg -&gt; Peg -&gt; Peg -&gt; [Move]) -&gt; IO ()’ has only one<br/>      In the expression: print hanoi 0<br/>      In an equation for ‘it’: it = print hanoi 0<br/>    • Relevant bindings include it :: t (bound at &lt;interactive&gt;:1:1)</span>"
      ],
      "text/plain": [
       "<interactive>:1:1: error:\n",
       "    • Couldn't match expected type ‘Integer -> t’ with actual type ‘IO ()’\n",
       "    • The function ‘print’ is applied to two arguments,\n",
       "      but its type ‘(Integer -> Peg -> Peg -> Peg -> [Move]) -> IO ()’ has only one\n",
       "      In the expression: print hanoi 0\n",
       "      In an equation for ‘it’: it = print hanoi 0\n",
       "    • Relevant bindings include it :: t (bound at <interactive>:1:1)"
      ]
     },
     "metadata": {},
     "output_type": "display_data"
    }
   ],
   "source": [
    "print hanoi 0"
   ]
  },
  {
   "cell_type": "markdown",
   "metadata": {},
   "source": [
    "Taking a break for...\n",
    "### 99 Lisp problems"
   ]
  },
  {
   "cell_type": "markdown",
   "metadata": {},
   "source": [
    "Source: https://wiki.haskell.org/99_questions/11_to_20"
   ]
  },
  {
   "cell_type": "code",
   "execution_count": 114,
   "metadata": {},
   "outputs": [],
   "source": [
    "myLast :: [a] -> a\n",
    "myLast [] = error \"Sorry nothing to see\"\n",
    "myLast [x] = x\n",
    "myLast (x:xs) = myLast xs"
   ]
  },
  {
   "cell_type": "code",
   "execution_count": 115,
   "metadata": {},
   "outputs": [
    {
     "data": {
      "text/plain": [
       "4"
      ]
     },
     "metadata": {},
     "output_type": "display_data"
    }
   ],
   "source": [
    "myLast [1,2,3,4]"
   ]
  },
  {
   "cell_type": "code",
   "execution_count": 126,
   "metadata": {},
   "outputs": [],
   "source": [
    "myButLast :: [a] -> a\n",
    "myButLast [] = error \"Sorry nothing to see\"\n",
    "myButLast [x] = error \"Sorry nothing to see\"\n",
    "myButLast (x:y:[]) = x\n",
    "myButLast (x:xs) = myButLast xs"
   ]
  },
  {
   "cell_type": "code",
   "execution_count": 127,
   "metadata": {},
   "outputs": [
    {
     "data": {
      "text/plain": [
       "'y'"
      ]
     },
     "metadata": {},
     "output_type": "display_data"
    }
   ],
   "source": [
    "myButLast ['a'..'z']"
   ]
  },
  {
   "cell_type": "code",
   "execution_count": 135,
   "metadata": {},
   "outputs": [],
   "source": [
    "elementAt :: [a] -> Int -> a\n",
    "elementAt [] _ = error \"Sorry nothing to see\"\n",
    "-- elementAt (x:xs) 0 = x  -- for zero-indexing we'd do 0 \n",
    "elementAt (x:xs) 1 = x\n",
    "elementAt (x:xs) y = elementAt xs (y - 1)"
   ]
  },
  {
   "cell_type": "code",
   "execution_count": 136,
   "metadata": {},
   "outputs": [
    {
     "data": {
      "text/plain": [
       "'e'"
      ]
     },
     "metadata": {},
     "output_type": "display_data"
    }
   ],
   "source": [
    "elementAt \"haskell\" 5"
   ]
  },
  {
   "cell_type": "code",
   "execution_count": 137,
   "metadata": {},
   "outputs": [],
   "source": [
    "myLength :: [a] -> Int\n",
    "myLength [] = 0\n",
    "myLength [x] = 1\n",
    "myLength (x:xs) = 1 + myLength xs"
   ]
  },
  {
   "cell_type": "code",
   "execution_count": 138,
   "metadata": {},
   "outputs": [
    {
     "data": {
      "text/plain": [
       "13"
      ]
     },
     "metadata": {},
     "output_type": "display_data"
    }
   ],
   "source": [
    "myLength \"Hello, world!\""
   ]
  },
  {
   "cell_type": "code",
   "execution_count": 6,
   "metadata": {},
   "outputs": [],
   "source": [
    "myReverse :: [a] -> [a]\n",
    "myReverse [] = []\n",
    "myReverse (x:xs) = myReverse xs ++ [x]"
   ]
  },
  {
   "cell_type": "code",
   "execution_count": 7,
   "metadata": {},
   "outputs": [
    {
     "data": {
      "text/plain": [
       "\"!amanap ,lanac a ,nalp a ,nam A\""
      ]
     },
     "metadata": {},
     "output_type": "display_data"
    }
   ],
   "source": [
    "myReverse \"A man, a plan, a canal, panama!\""
   ]
  },
  {
   "cell_type": "code",
   "execution_count": 16,
   "metadata": {},
   "outputs": [
    {
     "data": {
      "text/plain": [
       "False"
      ]
     },
     "metadata": {},
     "output_type": "display_data"
    }
   ],
   "source": [
    "3 == 3 && 2 == 3"
   ]
  },
  {
   "cell_type": "code",
   "execution_count": 25,
   "metadata": {},
   "outputs": [
    {
     "data": {
      "text/plain": [
       "True"
      ]
     },
     "metadata": {},
     "output_type": "display_data"
    }
   ],
   "source": [
    "4 == last [3,4]"
   ]
  },
  {
   "cell_type": "code",
   "execution_count": 30,
   "metadata": {},
   "outputs": [],
   "source": [
    "isPalindrome ::  Eq a => [a] -> Bool\n",
    "\n",
    "isPalindrome [] = True\n",
    "isPalindrome [x] = True\n",
    "isPalindrome (x:xs) = (x == last xs) && (isPalindrome (init xs))"
   ]
  },
  {
   "cell_type": "code",
   "execution_count": 31,
   "metadata": {},
   "outputs": [
    {
     "data": {
      "text/plain": [
       "True"
      ]
     },
     "metadata": {},
     "output_type": "display_data"
    }
   ],
   "source": [
    "isPalindrome \"madamimadam\""
   ]
  },
  {
   "cell_type": "code",
   "execution_count": 33,
   "metadata": {},
   "outputs": [],
   "source": [
    "dupli :: [a] -> [a]\n",
    "dupli [] = []\n",
    "dupli [x] = [x,x]\n",
    "dupli (x:xs) = dupli [x] ++ dupli xs"
   ]
  },
  {
   "cell_type": "markdown",
   "metadata": {},
   "source": [
    "14"
   ]
  },
  {
   "cell_type": "code",
   "execution_count": 34,
   "metadata": {},
   "outputs": [
    {
     "data": {
      "text/plain": [
       "[1,1,2,2,3,3]"
      ]
     },
     "metadata": {},
     "output_type": "display_data"
    }
   ],
   "source": [
    "dupli [1, 2, 3]"
   ]
  },
  {
   "cell_type": "code",
   "execution_count": 41,
   "metadata": {},
   "outputs": [],
   "source": [
    "repli :: [a] -> Int -> [a]\n",
    "repli [] _ = []\n",
    "repli [_] 0 = []\n",
    "repli [x] 1 = [x]\n",
    "repli [x] 2 = (x:x:[])\n",
    "repli (x:xs) n = [x] ++ repli [x] (n - 1) ++ repli xs n"
   ]
  },
  {
   "cell_type": "code",
   "execution_count": 44,
   "metadata": {},
   "outputs": [
    {
     "data": {
      "text/plain": [
       "\"aaaaaaabbbbbbbccccccc\""
      ]
     },
     "metadata": {},
     "output_type": "display_data"
    }
   ],
   "source": [
    "repli \"abc\" 7"
   ]
  },
  {
   "cell_type": "code",
   "execution_count": null,
   "metadata": {},
   "outputs": [],
   "source": [
    "dropEvery :: [a] -> Int -> [a]\n",
    "dropEvery [] _ = []\n",
    "dropEvery [x] 0 = [x]\n",
    "dropEvery [x] 1 = []\n",
    "dropEvery [x] n = "
   ]
  },
  {
   "cell_type": "code",
   "execution_count": null,
   "metadata": {},
   "outputs": [],
   "source": [
    "dropEvery \"abcdefghik\" 3"
   ]
  }
 ],
 "metadata": {
  "kernelspec": {
   "display_name": "Haskell",
   "language": "haskell",
   "name": "haskell"
  },
  "language_info": {
   "codemirror_mode": "ihaskell",
   "file_extension": ".hs",
   "name": "haskell",
   "pygments_lexer": "Haskell",
   "version": "8.6.3"
  }
 },
 "nbformat": 4,
 "nbformat_minor": 2
}
